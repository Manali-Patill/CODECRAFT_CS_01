{
  "nbformat": 4,
  "nbformat_minor": 0,
  "metadata": {
    "colab": {
      "provenance": [],
      "authorship_tag": "ABX9TyPIlDLgOcDMOmjCBToi0+cs"
    },
    "kernelspec": {
      "name": "python3",
      "display_name": "Python 3"
    },
    "language_info": {
      "name": "python"
    }
  },
  "cells": [
    {
      "cell_type": "code",
      "execution_count": null,
      "metadata": {
        "colab": {
          "base_uri": "https://localhost:8080/"
        },
        "id": "NA8h_S6M4y0Y",
        "outputId": "2f66ace1-f08e-4f51-e1be-9d06f63bb222"
      },
      "outputs": [
        {
          "output_type": "stream",
          "name": "stdout",
          "text": [
            "Enter text: Hello, Manali Here!\n",
            "Enter shift key: 4\n",
            "Encrypted Text:  Lipps, Qerepm Livi!\n",
            "Decrypted Text:  Hello, Manali Here!\n"
          ]
        }
      ],
      "source": [
        "#Task one Completed\n",
        "\n",
        "# Ceaser Cipher Algorithm\n",
        "\n",
        "#Encryption Algorithm\n",
        "def encrypt(Text, key):\n",
        "  encrypted_text = \"\"\n",
        "\n",
        "  for char in Text:\n",
        "    if char.isupper():\n",
        "      encrypted_text += chr((ord(char) + key -65)% 26 + 65)\n",
        "\n",
        "    elif char.islower():\n",
        "      encrypted_text += chr((ord(char) + key -97)% 26 + 97)\n",
        "\n",
        "    else:\n",
        "      encrypted_text += char\n",
        "\n",
        "  return encrypted_text\n",
        "\n",
        "#Decryption Algorithm\n",
        "def decrypt(cipher_text, key):\n",
        "  decrypted_text = \"\"\n",
        "\n",
        "  for char in cipher_text:\n",
        "    if char.isupper():\n",
        "      decrypted_text += chr((ord(char) - key - 65)%26 + 65)\n",
        "\n",
        "    elif char.islower():\n",
        "      decrypted_text += chr((ord(char) - key -97)%26 + 97)\n",
        "    else:\n",
        "      #skips the special characters such as \"_ , !\"\n",
        "      decrypted_text += char\n",
        "\n",
        "  return decrypted_text\n",
        "\n",
        "#Taking user input for Plaintext and sift value\n",
        "PlainText = input(\"Enter text: \")\n",
        "key = int(input(\"Enter shift key: \"))\n",
        "\n",
        "# Encrypting the Plaintext into cipher text\n",
        "cipher_text = encrypt(PlainText, key)\n",
        "print(\"Encrypted Text: \", cipher_text)\n",
        "\n",
        "#decrypting cipher text\n",
        "decrypted_text = decrypt(cipher_text, key)\n",
        "print(\"Decrypted Text: \", decrypted_text)\n"
      ]
    }
  ]
}